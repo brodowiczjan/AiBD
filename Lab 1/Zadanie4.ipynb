{
 "cells": [
  {
   "cell_type": "markdown",
   "id": "7d418d25",
   "metadata": {},
   "source": [
    "# Zadanie 4 - Jan Brodowicz"
   ]
  },
  {
   "cell_type": "code",
   "execution_count": 2,
   "id": "9c3336be",
   "metadata": {},
   "outputs": [],
   "source": [
    "import pandas as pd"
   ]
  },
  {
   "cell_type": "markdown",
   "id": "b8069d3a",
   "metadata": {},
   "source": [
    "***Data frame:***"
   ]
  },
  {
   "cell_type": "code",
   "execution_count": 10,
   "id": "d6cd97a4",
   "metadata": {},
   "outputs": [
    {
     "data": {
      "text/html": [
       "<div>\n",
       "<style scoped>\n",
       "    .dataframe tbody tr th:only-of-type {\n",
       "        vertical-align: middle;\n",
       "    }\n",
       "\n",
       "    .dataframe tbody tr th {\n",
       "        vertical-align: top;\n",
       "    }\n",
       "\n",
       "    .dataframe thead th {\n",
       "        text-align: right;\n",
       "    }\n",
       "</style>\n",
       "<table border=\"1\" class=\"dataframe\">\n",
       "  <thead>\n",
       "    <tr style=\"text-align: right;\">\n",
       "      <th></th>\n",
       "      <th>Name</th>\n",
       "      <th>Surname</th>\n",
       "      <th>Age</th>\n",
       "      <th>Sex</th>\n",
       "    </tr>\n",
       "  </thead>\n",
       "  <tbody>\n",
       "    <tr>\n",
       "      <th>1</th>\n",
       "      <td>Jan</td>\n",
       "      <td>Brodowicz</td>\n",
       "      <td>20</td>\n",
       "      <td>male</td>\n",
       "    </tr>\n",
       "    <tr>\n",
       "      <th>2</th>\n",
       "      <td>Michał</td>\n",
       "      <td>Przygiel</td>\n",
       "      <td>21</td>\n",
       "      <td>male</td>\n",
       "    </tr>\n",
       "    <tr>\n",
       "      <th>3</th>\n",
       "      <td>Jakub</td>\n",
       "      <td>Marchewka</td>\n",
       "      <td>22</td>\n",
       "      <td>male</td>\n",
       "    </tr>\n",
       "    <tr>\n",
       "      <th>4</th>\n",
       "      <td>Ania</td>\n",
       "      <td>Cebula</td>\n",
       "      <td>23</td>\n",
       "      <td>female</td>\n",
       "    </tr>\n",
       "    <tr>\n",
       "      <th>5</th>\n",
       "      <td>Maciej</td>\n",
       "      <td>Boguś</td>\n",
       "      <td>24</td>\n",
       "      <td>male</td>\n",
       "    </tr>\n",
       "  </tbody>\n",
       "</table>\n",
       "</div>"
      ],
      "text/plain": [
       "     Name    Surname  Age     Sex\n",
       "1     Jan  Brodowicz   20    male\n",
       "2  Michał   Przygiel   21    male\n",
       "3   Jakub  Marchewka   22    male\n",
       "4    Ania     Cebula   23  female\n",
       "5  Maciej      Boguś   24    male"
      ]
     },
     "execution_count": 10,
     "metadata": {},
     "output_type": "execute_result"
    }
   ],
   "source": [
    "d = {\"Name\": [\"Jan\", \"Michał\", \"Jakub\", \"Ania\", \"Maciej\"],                  # tworzę słownik na postawie, którego \n",
    "     \"Surname\": [\"Brodowicz\", \"Przygiel\", \"Marchewka\", \"Cebula\", \"Boguś\"],  # stworzony zostanie data frame\n",
    "     \"Age\": [20, 21, 22, 23, 24], \n",
    "     \"Sex\": [\"male\", \"male\", \"male\", \"female\", \"male\"]}\n",
    "df = pd.DataFrame(data=d)  # tworzę dataframe\n",
    "df.index = df.index + 1    # indeksuję od 1 zamiast od 0\n",
    "df  # wyświetlam dataframe"
   ]
  },
  {
   "cell_type": "markdown",
   "id": "6fd96978",
   "metadata": {},
   "source": [
    "***Informacje o danych:***"
   ]
  },
  {
   "cell_type": "code",
   "execution_count": 8,
   "id": "23626ff6",
   "metadata": {},
   "outputs": [
    {
     "name": "stdout",
     "output_type": "stream",
     "text": [
      "<class 'pandas.core.frame.DataFrame'>\n",
      "RangeIndex: 5 entries, 1 to 5\n",
      "Data columns (total 4 columns):\n",
      " #   Column   Non-Null Count  Dtype \n",
      "---  ------   --------------  ----- \n",
      " 0   Name     5 non-null      object\n",
      " 1   Surname  5 non-null      object\n",
      " 2   Age      5 non-null      int64 \n",
      " 3   Sex      5 non-null      object\n",
      "dtypes: int64(1), object(3)\n",
      "memory usage: 292.0+ bytes\n"
     ]
    }
   ],
   "source": [
    "df.info()  # informacje o danych"
   ]
  },
  {
   "cell_type": "markdown",
   "id": "d4d824e3",
   "metadata": {},
   "source": [
    "***Opis danych:***"
   ]
  },
  {
   "cell_type": "code",
   "execution_count": 11,
   "id": "c267d029",
   "metadata": {},
   "outputs": [
    {
     "data": {
      "text/html": [
       "<div>\n",
       "<style scoped>\n",
       "    .dataframe tbody tr th:only-of-type {\n",
       "        vertical-align: middle;\n",
       "    }\n",
       "\n",
       "    .dataframe tbody tr th {\n",
       "        vertical-align: top;\n",
       "    }\n",
       "\n",
       "    .dataframe thead th {\n",
       "        text-align: right;\n",
       "    }\n",
       "</style>\n",
       "<table border=\"1\" class=\"dataframe\">\n",
       "  <thead>\n",
       "    <tr style=\"text-align: right;\">\n",
       "      <th></th>\n",
       "      <th>Age</th>\n",
       "    </tr>\n",
       "  </thead>\n",
       "  <tbody>\n",
       "    <tr>\n",
       "      <th>count</th>\n",
       "      <td>5.000000</td>\n",
       "    </tr>\n",
       "    <tr>\n",
       "      <th>mean</th>\n",
       "      <td>22.000000</td>\n",
       "    </tr>\n",
       "    <tr>\n",
       "      <th>std</th>\n",
       "      <td>1.581139</td>\n",
       "    </tr>\n",
       "    <tr>\n",
       "      <th>min</th>\n",
       "      <td>20.000000</td>\n",
       "    </tr>\n",
       "    <tr>\n",
       "      <th>25%</th>\n",
       "      <td>21.000000</td>\n",
       "    </tr>\n",
       "    <tr>\n",
       "      <th>50%</th>\n",
       "      <td>22.000000</td>\n",
       "    </tr>\n",
       "    <tr>\n",
       "      <th>75%</th>\n",
       "      <td>23.000000</td>\n",
       "    </tr>\n",
       "    <tr>\n",
       "      <th>max</th>\n",
       "      <td>24.000000</td>\n",
       "    </tr>\n",
       "  </tbody>\n",
       "</table>\n",
       "</div>"
      ],
      "text/plain": [
       "             Age\n",
       "count   5.000000\n",
       "mean   22.000000\n",
       "std     1.581139\n",
       "min    20.000000\n",
       "25%    21.000000\n",
       "50%    22.000000\n",
       "75%    23.000000\n",
       "max    24.000000"
      ]
     },
     "execution_count": 11,
     "metadata": {},
     "output_type": "execute_result"
    }
   ],
   "source": [
    "df.describe()  # opis danych "
   ]
  },
  {
   "cell_type": "markdown",
   "id": "6303d256",
   "metadata": {},
   "source": [
    "***Pierwsze trzy rekordy:***"
   ]
  },
  {
   "cell_type": "code",
   "execution_count": 12,
   "id": "bfa2aeef",
   "metadata": {},
   "outputs": [
    {
     "data": {
      "text/html": [
       "<div>\n",
       "<style scoped>\n",
       "    .dataframe tbody tr th:only-of-type {\n",
       "        vertical-align: middle;\n",
       "    }\n",
       "\n",
       "    .dataframe tbody tr th {\n",
       "        vertical-align: top;\n",
       "    }\n",
       "\n",
       "    .dataframe thead th {\n",
       "        text-align: right;\n",
       "    }\n",
       "</style>\n",
       "<table border=\"1\" class=\"dataframe\">\n",
       "  <thead>\n",
       "    <tr style=\"text-align: right;\">\n",
       "      <th></th>\n",
       "      <th>Name</th>\n",
       "      <th>Surname</th>\n",
       "      <th>Age</th>\n",
       "      <th>Sex</th>\n",
       "    </tr>\n",
       "  </thead>\n",
       "  <tbody>\n",
       "    <tr>\n",
       "      <th>1</th>\n",
       "      <td>Jan</td>\n",
       "      <td>Brodowicz</td>\n",
       "      <td>20</td>\n",
       "      <td>male</td>\n",
       "    </tr>\n",
       "    <tr>\n",
       "      <th>2</th>\n",
       "      <td>Michał</td>\n",
       "      <td>Przygiel</td>\n",
       "      <td>21</td>\n",
       "      <td>male</td>\n",
       "    </tr>\n",
       "    <tr>\n",
       "      <th>3</th>\n",
       "      <td>Jakub</td>\n",
       "      <td>Marchewka</td>\n",
       "      <td>22</td>\n",
       "      <td>male</td>\n",
       "    </tr>\n",
       "  </tbody>\n",
       "</table>\n",
       "</div>"
      ],
      "text/plain": [
       "     Name    Surname  Age   Sex\n",
       "1     Jan  Brodowicz   20  male\n",
       "2  Michał   Przygiel   21  male\n",
       "3   Jakub  Marchewka   22  male"
      ]
     },
     "execution_count": 12,
     "metadata": {},
     "output_type": "execute_result"
    }
   ],
   "source": [
    "df.head(3)  # wyświetlam pierwsze 3 rekordy"
   ]
  },
  {
   "cell_type": "code",
   "execution_count": null,
   "id": "fe5eefa8",
   "metadata": {},
   "outputs": [],
   "source": []
  }
 ],
 "metadata": {
  "kernelspec": {
   "display_name": "Python 3 (ipykernel)",
   "language": "python",
   "name": "python3"
  },
  "language_info": {
   "codemirror_mode": {
    "name": "ipython",
    "version": 3
   },
   "file_extension": ".py",
   "mimetype": "text/x-python",
   "name": "python",
   "nbconvert_exporter": "python",
   "pygments_lexer": "ipython3",
   "version": "3.9.12"
  }
 },
 "nbformat": 4,
 "nbformat_minor": 5
}
